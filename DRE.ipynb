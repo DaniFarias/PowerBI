{
  "nbformat": 4,
  "nbformat_minor": 0,
  "metadata": {
    "colab": {
      "provenance": [],
      "authorship_tag": "ABX9TyOyV8BvY61o2RcJLGAc5KFp",
      "include_colab_link": true
    },
    "kernelspec": {
      "name": "python3",
      "display_name": "Python 3"
    },
    "language_info": {
      "name": "python"
    }
  },
  "cells": [
    {
      "cell_type": "markdown",
      "metadata": {
        "id": "view-in-github",
        "colab_type": "text"
      },
      "source": [
        "<a href=\"https://colab.research.google.com/github/DaniFarias/PowerBI/blob/main/DRE.ipynb\" target=\"_parent\"><img src=\"https://colab.research.google.com/assets/colab-badge.svg\" alt=\"Open In Colab\"/></a>"
      ]
    },
    {
      "cell_type": "code",
      "execution_count": 2,
      "metadata": {
        "id": "NuPnaSVumfWJ"
      },
      "outputs": [],
      "source": [
        "from IPython.display import IFrame"
      ]
    },
    {
      "cell_type": "code",
      "source": [
        "dashboard = IFrame(\n",
        "    src=\"https://app.powerbi.com/view?r=eyJrIjoiMjVjOGIwNzUtMTJhNy00YWRmLTlhYTgtYzAxYmZmOWQ1MTgzIiwidCI6IjVlZDI3MDgzLTdmMDItNDJmOC1iMTQyLWZkM2E1NWJiNGViMCJ9\"\n",
        "    ,width=1000\n",
        "    ,height=600)"
      ],
      "metadata": {
        "id": "5zlz46idm5eT"
      },
      "execution_count": 10,
      "outputs": []
    },
    {
      "cell_type": "code",
      "source": [
        "display(dashboard)"
      ],
      "metadata": {
        "colab": {
          "base_uri": "https://localhost:8080/",
          "height": 621
        },
        "id": "c78A4MZSnO4T",
        "outputId": "5fdee312-9dc2-425b-8e86-c154c6059d2b"
      },
      "execution_count": 11,
      "outputs": [
        {
          "output_type": "display_data",
          "data": {
            "text/plain": [
              "<IPython.lib.display.IFrame at 0x7bba8186e5c0>"
            ],
            "text/html": [
              "\n",
              "        <iframe\n",
              "            width=\"1000\"\n",
              "            height=\"600\"\n",
              "            src=\"https://app.powerbi.com/view?r=eyJrIjoiMjVjOGIwNzUtMTJhNy00YWRmLTlhYTgtYzAxYmZmOWQ1MTgzIiwidCI6IjVlZDI3MDgzLTdmMDItNDJmOC1iMTQyLWZkM2E1NWJiNGViMCJ9\"\n",
              "            frameborder=\"0\"\n",
              "            allowfullscreen\n",
              "            \n",
              "        ></iframe>\n",
              "        "
            ]
          },
          "metadata": {}
        }
      ]
    }
  ]
}